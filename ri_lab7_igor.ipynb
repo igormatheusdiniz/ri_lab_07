{
  "nbformat": 4,
  "nbformat_minor": 0,
  "metadata": {
    "colab": {
      "name": "ri-lab7-igor.ipynb",
      "version": "0.3.2",
      "provenance": [],
      "collapsed_sections": [],
      "toc_visible": true,
      "include_colab_link": true
    },
    "kernelspec": {
      "name": "python3",
      "display_name": "Python 3"
    }
  },
  "cells": [
    {
      "cell_type": "markdown",
      "metadata": {
        "id": "view-in-github",
        "colab_type": "text"
      },
      "source": [
        "<a href=\"https://colab.research.google.com/github/igormatheusdiniz/ri_lab_07/blob/master/ri_lab7_igor.ipynb\" target=\"_parent\"><img src=\"https://colab.research.google.com/assets/colab-badge.svg\" alt=\"Open In Colab\"/></a>"
      ]
    },
    {
      "cell_type": "code",
      "metadata": {
        "id": "YBKjU2F9MNnA",
        "colab_type": "code",
        "colab": {
          "base_uri": "https://localhost:8080/",
          "height": 85
        },
        "outputId": "563dca0a-a80c-46f9-feba-c648419b066a"
      },
      "source": [
        "import matplotlib.pyplot as plt\n",
        "import numpy as np\n",
        "import pandas as pd\n",
        "import re\n",
        "import seaborn as sns\n",
        "import heapq as hp\n",
        "import math\n",
        "import bisect\n",
        "\n",
        "import nltk\n",
        "nltk.download('rslp')\n",
        "nltk.download('stopwords')\n",
        "\n",
        "from nltk.corpus import stopwords\n",
        "from nltk.tokenize import RegexpTokenizer\n",
        "from nltk.tokenize import word_tokenize\n",
        "from collections import Counter\n",
        "from nltk.stem import PorterStemmer\n",
        "from nltk.tokenize import sent_tokenize, word_tokenize\n",
        "import heapq as hp"
      ],
      "execution_count": 250,
      "outputs": [
        {
          "output_type": "stream",
          "text": [
            "[nltk_data] Downloading package rslp to /root/nltk_data...\n",
            "[nltk_data]   Package rslp is already up-to-date!\n",
            "[nltk_data] Downloading package stopwords to /root/nltk_data...\n",
            "[nltk_data]   Package stopwords is already up-to-date!\n"
          ],
          "name": "stdout"
        }
      ]
    },
    {
      "cell_type": "markdown",
      "metadata": {
        "id": "QMtcNTrvOilm",
        "colab_type": "text"
      },
      "source": [
        "# Leitura e tratamento dos dados do .csv e Json"
      ]
    },
    {
      "cell_type": "code",
      "metadata": {
        "id": "gbe6Z4cDMmB5",
        "colab_type": "code",
        "colab": {}
      },
      "source": [
        "url = 'https://raw.githubusercontent.com/Benardi/ri_lab_01/master/output/results.csv'"
      ],
      "execution_count": 0,
      "outputs": []
    },
    {
      "cell_type": "code",
      "metadata": {
        "id": "myAfP-6nMqsR",
        "colab_type": "code",
        "colab": {}
      },
      "source": [
        "dataframe = pd.read_csv(url)\n",
        "dataframe['treatedText'] = dataframe.text.apply(lambda x: re.sub('[^0-9A-ZÀ-Úa-zà-ú\\']', ' ', x.lower()))"
      ],
      "execution_count": 0,
      "outputs": []
    },
    {
      "cell_type": "code",
      "metadata": {
        "id": "WOFk6Ok9MtqF",
        "colab_type": "code",
        "colab": {}
      },
      "source": [
        "regex = RegexpTokenizer(r'[A-zÀ-ú-]+')\n",
        "stopWords = set(stopwords.words('portuguese'))"
      ],
      "execution_count": 0,
      "outputs": []
    },
    {
      "cell_type": "code",
      "metadata": {
        "id": "GvQ3h8AvMw9l",
        "colab_type": "code",
        "colab": {}
      },
      "source": [
        "urlJson = \"https://raw.githubusercontent.com/igormatheusdiniz/ri_lab_07/master/results_final.json\"\n",
        "json = pd.read_json(urlJson)\n",
        "feedback = {json['query'][i]:json['docs'][i] for i in range(10)}"
      ],
      "execution_count": 0,
      "outputs": []
    },
    {
      "cell_type": "markdown",
      "metadata": {
        "id": "UnZkbd5nOcyr",
        "colab_type": "text"
      },
      "source": [
        "# Construção do Índice Invertido"
      ]
    },
    {
      "cell_type": "code",
      "metadata": {
        "id": "6ppUWCuXOTNq",
        "colab_type": "code",
        "colab": {}
      },
      "source": [
        "def ocurrences(list, token):\n",
        "  print(list)\n",
        "  print(token)\n",
        "  count = 0\n",
        "  for word in list:\n",
        "    if word==token:\n",
        "      count +=1\n",
        "  return count\n",
        "      \n",
        "\n",
        "def invertedIndex(documents):\n",
        "  I = {}\n",
        "  index = 0\n",
        "  \n",
        "  ##Para cada documento na minha relação de documentos irei realizar o processo de tokenização\n",
        "  for document in documents.treatedText:\n",
        "    index += 1\n",
        "    T = [token for token in regex.tokenize(document)\n",
        "        if((len(token)>=3) and token not in stopWords and token[0] != \"[\" and token[-1]!=\"]\")]\n",
        "    \n",
        "    ##Por motivos didáticos, resolvi ordenar minha lista de tokens\n",
        "    #T.sort()\n",
        "    \n",
        "    ## Pra cada token criado se ele ainda não existe na minha estrutura de armazenamento como uma chave, eu crio e em seguida adiciono\n",
        "    ##o indice do documento como valor para esta chave\n",
        "    ## Caso já exista, apenas adiciona o índice do documento para esta chave\n",
        "    for token in T:\n",
        "      if token not in I.keys():\n",
        "        I[token]=[]\n",
        "       \n",
        "      pair = []\n",
        "      ocurrence = T.count(token)\n",
        "     \n",
        "      pair.append(index)\n",
        "      pair.append(ocurrence)\n",
        "      if(pair not in I[token]):\n",
        "        I[token].append(pair)\n",
        "  \n",
        "  ## Calculo do IDF\n",
        "  for key in I:\n",
        "    idf = math.log((documents.treatedText.count()+1)/ len(I[key]))\n",
        "    I[key].append(idf)\n",
        "        \n",
        "  ## Por motivos estéticos resolvi comentar esta linha para não ficar uma lista de print muito grande no gitHub, dificultando a visualização do documento como um todo      \n",
        "  ##print(I)\n",
        "  return I\n",
        "\n",
        "## Exportando para .csv\n",
        "invertedIndex = invertedIndex(dataframe)\n",
        "data = {'token': list(invertedIndex.keys()), 'ocurrences': list(invertedIndex.values())}\n",
        "df = pd.DataFrame(data)\n",
        "df.to_csv('index.csv')"
      ],
      "execution_count": 0,
      "outputs": []
    },
    {
      "cell_type": "markdown",
      "metadata": {
        "id": "2jvXSgIeOomg",
        "colab_type": "text"
      },
      "source": [
        "# Algoritimo necessários"
      ]
    },
    {
      "cell_type": "code",
      "metadata": {
        "id": "U3UzVRSmOrha",
        "colab_type": "code",
        "colab": {}
      },
      "source": [
        "def binarioModelDocument(document):\n",
        "  vetores = []\n",
        "  #for document in dataframe.treatedText:\n",
        "  ## Tokenização do documento passado\n",
        "  dicionario = {}\n",
        "  T = [token for token in regex.tokenize(document)\n",
        "      if((len(token)>=3) and token not in stopWords and token[0] != \"[\" and token[-1]!=\"]\")]\n",
        "    \n",
        "    ##Por motivos didáticos, resolvi ordenar minha lista de tokens\n",
        "  #T.sort()\n",
        "  \n",
        "  for indice in invertedIndex:\n",
        "    dicionario[indice] = 0\n",
        "    \n",
        "    if indice in T :\n",
        "      dicionario[indice] = 1\n",
        "\n",
        "  return dicionario\n",
        "\n",
        "## Metodo para calculo do Score\n",
        "def calculaScore(vetorQuery, vetorDocument):\n",
        "  ##Criação de dois vetores com relação ao vocabulario, query vs. vocabulario, document vs. vocabulario\n",
        "  vetor_num_query = np.array(list(vetorQuery.values()))\n",
        "  vetor_num_documents = np.array(list(vetorDocument.values()))\n",
        "  ##Multiplicação dos vetores\n",
        "  result = vetor_num_query * vetor_num_documents\n",
        "  result = sum(result)\n",
        "  return result\n",
        "\n",
        "\n",
        "def binarioModel(consulta, document): \n",
        "  dicionario = {}\n",
        "  scores = []\n",
        "  vetor = binarioModelDocument(document)\n",
        "  \n",
        "  for indice in invertedIndex:\n",
        "    dicionario[indice] = 0\n",
        "    \n",
        "    if indice in consulta.split() :\n",
        "      dicionario[indice] = 1\n",
        "  \n",
        "  ## Calculo do score por modelo Binario, chamando o método auxiliar criado anteriormente\n",
        "  score = calculaScore(dicionario, vetor)       \n",
        "  return (score)\n",
        "\n",
        "#binary_model = binarioModel(\"juíza federal\",dataframe.treatedText[0])\n",
        "#print(binary_model)"
      ],
      "execution_count": 0,
      "outputs": []
    },
    {
      "cell_type": "code",
      "metadata": {
        "id": "1v-6LgnTOxUg",
        "colab_type": "code",
        "colab": {}
      },
      "source": [
        "def termFrequency(terms, document):\n",
        "  hashtable = {}\n",
        "  query =[]\n",
        "  document_vocabulary = []\n",
        "  \n",
        "  ## Tokenização do documento\n",
        "  document_vocabulary = [token for token in regex.tokenize(document)\n",
        "      if((len(token)>=3) and token not in stopWords and token[0] != \"[\" and token[-1]!=\"]\")]\n",
        "  \n",
        "  ## Construção do vetor de termos em comum da query e do vocabulario\n",
        "  for term in terms.split():\n",
        "    if term in invertedIndex.keys():\n",
        "      query.append(term)\n",
        "    \n",
        "  ## Contagem da frequência de acordo o palavra no vocabulario e na query de consulta  \n",
        "  frequency = 0\n",
        "  for word in document_vocabulary:\n",
        "    if word in query:\n",
        "      frequency += 1\n",
        "    \n",
        "  return (frequency)\n",
        "\n",
        "#resultado = termFrequency(\"juíza federal\", dataframe.treatedText[158])\n",
        "#print(resultado)"
      ],
      "execution_count": 0,
      "outputs": []
    },
    {
      "cell_type": "code",
      "metadata": {
        "id": "TzI6HS6OOyQZ",
        "colab_type": "code",
        "colab": {}
      },
      "source": [
        "def tf_idf(terms, document):\n",
        "  hashtable = {}\n",
        "  invertedLists ={}\n",
        "  R = []\n",
        "  \n",
        "  document_vocabulary = [token for token in regex.tokenize(document)\n",
        "                         if((len(token)>=3) and token not in stopWords and token[0] != \"[\" and token[-1]!=\"]\")]\n",
        "  \n",
        "  for term in terms.split():\n",
        "    if term in invertedIndex.keys():\n",
        "      invertedLists[term] = []\n",
        "      invertedLists[term] = invertedIndex[term]\n",
        "  \n",
        "  ## Semelhante ao metodo\n",
        "  frequency = 0\n",
        "  for word in document_vocabulary:\n",
        "    if word in invertedLists:\n",
        "      frequency += 1*invertedLists[word][-1]\n",
        "  \n",
        "  return frequency\n",
        "\n",
        "#resultado = tf_idf(\"juíza federal\", dataframe.treatedText[14])\n",
        "#print(resultado)"
      ],
      "execution_count": 0,
      "outputs": []
    },
    {
      "cell_type": "code",
      "metadata": {
        "id": "HwxUjLzEO0jp",
        "colab_type": "code",
        "colab": {}
      },
      "source": [
        "N = dataframe.text.count()\n",
        "def bm25(consulta, document, k):\n",
        "  document_vocabulary = [token for token in regex.tokenize(document)\n",
        "                         if((len(token)>=3) and token not in stopWords and token[0] != \"[\" and token[-1]!=\"]\")]\n",
        "  query = consulta.split()\n",
        "  intersec =  list(set(document_vocabulary) & set(query))\n",
        "  \n",
        "  score = 0\n",
        "  for word in intersec:\n",
        "    cwq = query.count(word)\n",
        "    cwd = document_vocabulary.count(word)\n",
        "    dfw = len(invertedIndex[word][:-1])\n",
        "    y = ((k+1)*cwd)/(cwd+k)\n",
        "    score += cwq*y*math.log((N+1)/(dfw))\n",
        "  \n",
        "  return score\n",
        "    \n",
        "#bm25_result = bm25('forças armadas', dataframe.treatedText[149], 5)\n",
        "#print(bm25_result)\n",
        "  "
      ],
      "execution_count": 0,
      "outputs": []
    },
    {
      "cell_type": "markdown",
      "metadata": {
        "id": "srUJMaEsPQ90",
        "colab_type": "text"
      },
      "source": [
        "# 1. Escolha um documento dentre aqueles da base do aluno Bernardi e crie uma consulta que você acha que tem boas chances de recuperar este documento. Em seguida, avalie os resultados de tal consulta usando a métrica de avaliação Reciprocal Rank"
      ]
    },
    {
      "cell_type": "markdown",
      "metadata": {
        "id": "0cf6dPL6SbFo",
        "colab_type": "text"
      },
      "source": [
        "Escolhemos o documento 16, o mesmo fala sobre a permissão por parte do Papa para abertura dos arquivos secretos sobre o holocausto."
      ]
    },
    {
      "cell_type": "code",
      "metadata": {
        "id": "2ZkmYdQfRVxF",
        "colab_type": "code",
        "colab": {
          "base_uri": "https://localhost:8080/",
          "height": 34
        },
        "outputId": "8fb3fd2a-d849-4099-d8c5-15e864f2a608"
      },
      "source": [
        "ndoc = 16\n",
        "document = dataframe.loc[ndoc]\n",
        "consulta = 'igreja nazista'\n",
        "document.title"
      ],
      "execution_count": 260,
      "outputs": [
        {
          "output_type": "execute_result",
          "data": {
            "text/plain": [
              "'Por que o papa Francisco ordenou a abertura dos arquivos secretos do Vaticano sobre o Holocausto judeu?'"
            ]
          },
          "metadata": {
            "tags": []
          },
          "execution_count": 260
        }
      ]
    },
    {
      "cell_type": "code",
      "metadata": {
        "id": "eJQNtESKRnR0",
        "colab_type": "code",
        "colab": {
          "base_uri": "https://localhost:8080/",
          "height": 114
        },
        "outputId": "4f87dabe-b8dc-4f92-c1c8-a32247dcd555"
      },
      "source": [
        "row = dataframe.loc[dataframe.url == document.url]\n",
        "row"
      ],
      "execution_count": 261,
      "outputs": [
        {
          "output_type": "execute_result",
          "data": {
            "text/html": [
              "<div>\n",
              "<style scoped>\n",
              "    .dataframe tbody tr th:only-of-type {\n",
              "        vertical-align: middle;\n",
              "    }\n",
              "\n",
              "    .dataframe tbody tr th {\n",
              "        vertical-align: top;\n",
              "    }\n",
              "\n",
              "    .dataframe thead th {\n",
              "        text-align: right;\n",
              "    }\n",
              "</style>\n",
              "<table border=\"1\" class=\"dataframe\">\n",
              "  <thead>\n",
              "    <tr style=\"text-align: right;\">\n",
              "      <th></th>\n",
              "      <th>title</th>\n",
              "      <th>subtitle</th>\n",
              "      <th>author</th>\n",
              "      <th>date</th>\n",
              "      <th>section</th>\n",
              "      <th>text</th>\n",
              "      <th>url</th>\n",
              "      <th>treatedText</th>\n",
              "    </tr>\n",
              "  </thead>\n",
              "  <tbody>\n",
              "    <tr>\n",
              "      <th>16</th>\n",
              "      <td>Por que o papa Francisco ordenou a abertura do...</td>\n",
              "      <td>Se Francisco realmente conseguir lançar luz se...</td>\n",
              "      <td>Juan Arias</td>\n",
              "      <td>04/03/2019 21:07:23</td>\n",
              "      <td>Opinião</td>\n",
              "      <td>No momento em que o papado de  se vê envolvido...</td>\n",
              "      <td>https://brasil.elpais.com/brasil/2019/03/05/op...</td>\n",
              "      <td>no momento em que o papado de  se vê envolvido...</td>\n",
              "    </tr>\n",
              "  </tbody>\n",
              "</table>\n",
              "</div>"
            ],
            "text/plain": [
              "                                                title  ...                                        treatedText\n",
              "16  Por que o papa Francisco ordenou a abertura do...  ...  no momento em que o papado de  se vê envolvido...\n",
              "\n",
              "[1 rows x 8 columns]"
            ]
          },
          "metadata": {
            "tags": []
          },
          "execution_count": 261
        }
      ]
    },
    {
      "cell_type": "code",
      "metadata": {
        "id": "N23GrrPLR2dE",
        "colab_type": "code",
        "colab": {}
      },
      "source": [
        "def createTable(consulta, dataframe):\n",
        "  table1 = pd.DataFrame()\n",
        "\n",
        "  rank_binario = []\n",
        "  rank_termFrequency = []\n",
        "  rank_tf_idf = []\n",
        "  rank_bm25 = []\n",
        "\n",
        "  document_number = 0\n",
        "  for document in dataframe.treatedText:\n",
        "  \n",
        "    score_binario = binarioModel(consulta, document)\n",
        "    score_termFrequency = termFrequency(consulta, document)\n",
        "    score_tf_idf = tf_idf(consulta, document)\n",
        "    score_bm25 = bm25(consulta, document,10)\n",
        "  \n",
        "    rank_binario.append((document_number, score_binario))\n",
        "    rank_termFrequency.append((document_number, score_termFrequency))\n",
        "    rank_tf_idf.append((document_number, score_tf_idf))\n",
        "    rank_bm25.append((document_number, score_bm25))\n",
        "  \n",
        "    document_number+=1\n",
        "\n",
        "  rank_binario.sort(key=lambda x: x[1], reverse = True)\n",
        "  rank_termFrequency.sort(key=lambda x: x[1], reverse = True)\n",
        "  rank_tf_idf.sort(key=lambda x: x[1], reverse = True)\n",
        "  rank_bm25.sort(key=lambda x: x[1], reverse = True)\n",
        "\n",
        "  rank_binario = rank_binario[0:10]\n",
        "  rank_termFrequency = rank_termFrequency[0:10]\n",
        "  rank_tf_idf = rank_tf_idf[0:10]\n",
        "  rank_bm25 = rank_bm25[0:10]\n",
        "\n",
        "  table1[\"Binario\"] = rank_binario\n",
        "  table1[\"TF\"] = rank_termFrequency\n",
        "  table1[\"Tf-Idf\"] = rank_tf_idf\n",
        "  table1[\"BM25\"] = rank_bm25\n",
        "\n",
        "  return table1"
      ],
      "execution_count": 0,
      "outputs": []
    },
    {
      "cell_type": "code",
      "metadata": {
        "id": "c3zQ5ujXSIAo",
        "colab_type": "code",
        "colab": {
          "base_uri": "https://localhost:8080/",
          "height": 359
        },
        "outputId": "0d783fe0-dea9-4355-aa31-a880b6b6480b"
      },
      "source": [
        "table = createTable(consulta, dataframe)\n",
        "table"
      ],
      "execution_count": 263,
      "outputs": [
        {
          "output_type": "execute_result",
          "data": {
            "text/html": [
              "<div>\n",
              "<style scoped>\n",
              "    .dataframe tbody tr th:only-of-type {\n",
              "        vertical-align: middle;\n",
              "    }\n",
              "\n",
              "    .dataframe tbody tr th {\n",
              "        vertical-align: top;\n",
              "    }\n",
              "\n",
              "    .dataframe thead th {\n",
              "        text-align: right;\n",
              "    }\n",
              "</style>\n",
              "<table border=\"1\" class=\"dataframe\">\n",
              "  <thead>\n",
              "    <tr style=\"text-align: right;\">\n",
              "      <th></th>\n",
              "      <th>Binario</th>\n",
              "      <th>TF</th>\n",
              "      <th>Tf-Idf</th>\n",
              "      <th>BM25</th>\n",
              "    </tr>\n",
              "  </thead>\n",
              "  <tbody>\n",
              "    <tr>\n",
              "      <th>0</th>\n",
              "      <td>(7, 1)</td>\n",
              "      <td>(16, 6)</td>\n",
              "      <td>(16, 15.786534959796493)</td>\n",
              "      <td>(180, 12.25648871776738)</td>\n",
              "    </tr>\n",
              "    <tr>\n",
              "      <th>1</th>\n",
              "      <td>(16, 1)</td>\n",
              "      <td>(163, 6)</td>\n",
              "      <td>(163, 15.786534959796493)</td>\n",
              "      <td>(16, 10.853242784860088)</td>\n",
              "    </tr>\n",
              "    <tr>\n",
              "      <th>2</th>\n",
              "      <td>(17, 1)</td>\n",
              "      <td>(68, 4)</td>\n",
              "      <td>(180, 14.484941211906904)</td>\n",
              "      <td>(163, 10.853242784860088)</td>\n",
              "    </tr>\n",
              "    <tr>\n",
              "      <th>3</th>\n",
              "      <td>(28, 1)</td>\n",
              "      <td>(78, 4)</td>\n",
              "      <td>(68, 10.524356639864328)</td>\n",
              "      <td>(110, 8.851908518387553)</td>\n",
              "    </tr>\n",
              "    <tr>\n",
              "      <th>4</th>\n",
              "      <td>(68, 1)</td>\n",
              "      <td>(96, 3)</td>\n",
              "      <td>(78, 10.524356639864328)</td>\n",
              "      <td>(68, 8.269137359893401)</td>\n",
              "    </tr>\n",
              "    <tr>\n",
              "      <th>5</th>\n",
              "      <td>(78, 1)</td>\n",
              "      <td>(176, 3)</td>\n",
              "      <td>(110, 9.656627474604603)</td>\n",
              "      <td>(78, 8.269137359893401)</td>\n",
              "    </tr>\n",
              "    <tr>\n",
              "      <th>6</th>\n",
              "      <td>(92, 1)</td>\n",
              "      <td>(180, 3)</td>\n",
              "      <td>(96, 7.893267479898245)</td>\n",
              "      <td>(96, 6.678918636836977)</td>\n",
              "    </tr>\n",
              "    <tr>\n",
              "      <th>7</th>\n",
              "      <td>(96, 1)</td>\n",
              "      <td>(196, 3)</td>\n",
              "      <td>(176, 7.893267479898245)</td>\n",
              "      <td>(176, 6.678918636836977)</td>\n",
              "    </tr>\n",
              "    <tr>\n",
              "      <th>8</th>\n",
              "      <td>(100, 1)</td>\n",
              "      <td>(110, 2)</td>\n",
              "      <td>(196, 7.893267479898245)</td>\n",
              "      <td>(196, 6.678918636836977)</td>\n",
              "    </tr>\n",
              "    <tr>\n",
              "      <th>9</th>\n",
              "      <td>(110, 1)</td>\n",
              "      <td>(7, 1)</td>\n",
              "      <td>(7, 2.631089159966082)</td>\n",
              "      <td>(7, 2.631089159966082)</td>\n",
              "    </tr>\n",
              "  </tbody>\n",
              "</table>\n",
              "</div>"
            ],
            "text/plain": [
              "    Binario        TF                     Tf-Idf                       BM25\n",
              "0    (7, 1)   (16, 6)   (16, 15.786534959796493)   (180, 12.25648871776738)\n",
              "1   (16, 1)  (163, 6)  (163, 15.786534959796493)   (16, 10.853242784860088)\n",
              "2   (17, 1)   (68, 4)  (180, 14.484941211906904)  (163, 10.853242784860088)\n",
              "3   (28, 1)   (78, 4)   (68, 10.524356639864328)   (110, 8.851908518387553)\n",
              "4   (68, 1)   (96, 3)   (78, 10.524356639864328)    (68, 8.269137359893401)\n",
              "5   (78, 1)  (176, 3)   (110, 9.656627474604603)    (78, 8.269137359893401)\n",
              "6   (92, 1)  (180, 3)    (96, 7.893267479898245)    (96, 6.678918636836977)\n",
              "7   (96, 1)  (196, 3)   (176, 7.893267479898245)   (176, 6.678918636836977)\n",
              "8  (100, 1)  (110, 2)   (196, 7.893267479898245)   (196, 6.678918636836977)\n",
              "9  (110, 1)    (7, 1)     (7, 2.631089159966082)     (7, 2.631089159966082)"
            ]
          },
          "metadata": {
            "tags": []
          },
          "execution_count": 263
        }
      ]
    },
    {
      "cell_type": "code",
      "metadata": {
        "id": "4XSZQaqJTTHO",
        "colab_type": "code",
        "colab": {
          "base_uri": "https://localhost:8080/",
          "height": 80
        },
        "outputId": "68616d2e-9533-49e1-f490-3bda0b140a9b"
      },
      "source": [
        "def reciprocalRank(entry, docId):\n",
        "  n = 1.0;\n",
        "  for doc,r in entry:\n",
        "    if doc == docId:\n",
        "      return  [1 / n]\n",
        "    else:\n",
        "      n += 1\n",
        "  return 1/n\n",
        "\n",
        "rank = pd.DataFrame()\n",
        "rank['Binary'] = reciprocalRank(table['Binario'], ndoc)\n",
        "rank['TF'] = reciprocalRank(table['TF'], ndoc)\n",
        "rank['TF-IDF'] = reciprocalRank(table['Tf-Idf'], ndoc)\n",
        "rank['BM25'] = reciprocalRank(table['BM25'], ndoc)\n",
        "\n",
        "rank"
      ],
      "execution_count": 264,
      "outputs": [
        {
          "output_type": "execute_result",
          "data": {
            "text/html": [
              "<div>\n",
              "<style scoped>\n",
              "    .dataframe tbody tr th:only-of-type {\n",
              "        vertical-align: middle;\n",
              "    }\n",
              "\n",
              "    .dataframe tbody tr th {\n",
              "        vertical-align: top;\n",
              "    }\n",
              "\n",
              "    .dataframe thead th {\n",
              "        text-align: right;\n",
              "    }\n",
              "</style>\n",
              "<table border=\"1\" class=\"dataframe\">\n",
              "  <thead>\n",
              "    <tr style=\"text-align: right;\">\n",
              "      <th></th>\n",
              "      <th>Binary</th>\n",
              "      <th>TF</th>\n",
              "      <th>TF-IDF</th>\n",
              "      <th>BM25</th>\n",
              "    </tr>\n",
              "  </thead>\n",
              "  <tbody>\n",
              "    <tr>\n",
              "      <th>0</th>\n",
              "      <td>0.5</td>\n",
              "      <td>1.0</td>\n",
              "      <td>1.0</td>\n",
              "      <td>0.5</td>\n",
              "    </tr>\n",
              "  </tbody>\n",
              "</table>\n",
              "</div>"
            ],
            "text/plain": [
              "   Binary   TF  TF-IDF  BM25\n",
              "0     0.5  1.0     1.0   0.5"
            ]
          },
          "metadata": {
            "tags": []
          },
          "execution_count": 264
        }
      ]
    },
    {
      "cell_type": "markdown",
      "metadata": {
        "id": "vStw64_PWcKr",
        "colab_type": "text"
      },
      "source": [
        "\n",
        "Pra as abordagens TF e TF-IDF, o valor do reciprocal rank sempre foi 1, pois o documento escolhido, cujo índice é 16, foi o primeiro colocado nos resultados da consulta."
      ]
    },
    {
      "cell_type": "markdown",
      "metadata": {
        "id": "OM01RTATWlp-",
        "colab_type": "text"
      },
      "source": [
        "# 2. A partir do gabarito fornecido em OBS1, calcule o MAP para cada algoritmo abaixo e aponte qual obteve o melhor resultado. Para os cálculos do MAP, considere que um documento é relevante para uma dada consulta se este documento estiver entre os documentos do gabarito para essa consulta, senão ele deve ser considerado irrelevante."
      ]
    },
    {
      "cell_type": "code",
      "metadata": {
        "id": "muWzjy5lXY5A",
        "colab_type": "code",
        "colab": {}
      },
      "source": [
        "def create_models(query,k):\n",
        "  binario = []\n",
        "  tf = []\n",
        "  tfidf = []\n",
        "  BM25 = []\n",
        "  for i in range(len(dataframe)):\n",
        "    doc = dataframe.treatedText[i]\n",
        "    bisect.insort(binario, (binarioModel(query, doc), i))\n",
        "    bisect.insort(tf, (termFrequency(query,doc), i))\n",
        "    bisect.insort(tfidf, (tf_idf(query,doc), i))\n",
        "    bisect.insort(BM25, (bm25(query,doc,20), i))\n",
        "  \n",
        "  binario.reverse()\n",
        "  tf.reverse()\n",
        "  tfidf.reverse()\n",
        "  BM25.reverse()\n",
        "  \n",
        "  return binario[:k], tf[:k], tfidf[:k], BM25[:k]"
      ],
      "execution_count": 0,
      "outputs": []
    },
    {
      "cell_type": "code",
      "metadata": {
        "id": "LbBk9pZhWrHb",
        "colab_type": "code",
        "colab": {
          "base_uri": "https://localhost:8080/",
          "height": 187
        },
        "outputId": "a06f3a83-a521-4a81-a3f9-13f2002640f0"
      },
      "source": [
        "def indexes(model):\n",
        "  return [doc for score,doc in model]\n",
        "\n",
        "def intersection(a,b):\n",
        "  return [elem for elem in a if elem in b]\n",
        "\n",
        "def calcAP(query):\n",
        "  relevant_docs = []\n",
        "\n",
        "  for info in feedback[query]:\n",
        "    row = dataframe.loc[dataframe.url == info['URL']]\n",
        "    relevant_docs.append(row.index[0])\n",
        "  \n",
        "  binario, tf, tfidf, bm25 = create_models(query, 10)\n",
        "  binario = indexes(binario)\n",
        "  tf = indexes(tf)\n",
        "  tfidf = indexes(tfidf)\n",
        "  bm25 = indexes(bm25)\n",
        "  \n",
        "  binarioAP = len(intersection(binario, relevant_docs)) / len(binario)\n",
        "  tfAP = len(intersection(tf, relevant_docs)) / len(tf)\n",
        "  tf_idfAP = len(intersection(tfidf, relevant_docs)) / len(tfidf)\n",
        "  BM25AP = len(intersection(bm25, relevant_docs)) / len(bm25)\n",
        "  \n",
        "  return binarioAP, tfAP, tf_idfAP, BM25AP\n",
        "  \n",
        "def calcMAP(queries):\n",
        "  binarioSUM = 0\n",
        "  TFSUM = 0\n",
        "  tfidfSUM = 0\n",
        "  bm25SUM = 0\n",
        "  \n",
        "  for consulta in queries:\n",
        "    ap_binario, ap_tf, ap_tf_idf, ap_BM25 = calcAP(consulta)\n",
        "    binarioSUM += ap_binario\n",
        "    TFSUM += ap_tf\n",
        "    tfidfSUM += ap_tf_idf\n",
        "    bm25SUM += ap_BM25\n",
        "  \n",
        "  binarioMAP = round(binarioSUM / len(queries),2)\n",
        "  tfMAP = round(TFSUM / len(queries),2)\n",
        "  tf_idfMAP = round(tfidfSUM / len(queries),2)\n",
        "  BM25MAP = round(bm25SUM / len(queries),2)\n",
        "  \n",
        "  return binarioMAP, tfMAP, tf_idfMAP, BM25MAP\n",
        "list(feedback.keys())"
      ],
      "execution_count": 266,
      "outputs": [
        {
          "output_type": "execute_result",
          "data": {
            "text/plain": [
              "['território palestino',\n",
              " 'recessão mundial',\n",
              " 'ditadura militar',\n",
              " 'muro das lamentações',\n",
              " 'brasil e argentina',\n",
              " 'golpe militar',\n",
              " 'governo bolsonaro',\n",
              " 'ministro da economia',\n",
              " 'prisão de Temer',\n",
              " 'Congresso Nacional']"
            ]
          },
          "metadata": {
            "tags": []
          },
          "execution_count": 266
        }
      ]
    },
    {
      "cell_type": "markdown",
      "metadata": {
        "id": "ygY1tYeZ0gui",
        "colab_type": "text"
      },
      "source": [
        "## Calculo do MAP para cada modelo"
      ]
    },
    {
      "cell_type": "code",
      "metadata": {
        "id": "RnKP_-mtXABK",
        "colab_type": "code",
        "colab": {}
      },
      "source": [
        "mapBinario, mapTF, mapTf_idf, mapBM25 = calcMAP(list(feedback.keys()))\n"
      ],
      "execution_count": 0,
      "outputs": []
    },
    {
      "cell_type": "code",
      "metadata": {
        "id": "6sEfV7J6gbUG",
        "colab_type": "code",
        "colab": {
          "base_uri": "https://localhost:8080/",
          "height": 34
        },
        "outputId": "ad194b80-a43c-4d3f-842c-5345b87a833c"
      },
      "source": [
        "mapBinario"
      ],
      "execution_count": 268,
      "outputs": [
        {
          "output_type": "execute_result",
          "data": {
            "text/plain": [
              "0.08"
            ]
          },
          "metadata": {
            "tags": []
          },
          "execution_count": 268
        }
      ]
    },
    {
      "cell_type": "code",
      "metadata": {
        "id": "sfP-gdLugfFF",
        "colab_type": "code",
        "colab": {
          "base_uri": "https://localhost:8080/",
          "height": 34
        },
        "outputId": "55857ea7-957b-4b9a-fe37-2f5f5fb6bf8c"
      },
      "source": [
        "mapTF"
      ],
      "execution_count": 269,
      "outputs": [
        {
          "output_type": "execute_result",
          "data": {
            "text/plain": [
              "0.1"
            ]
          },
          "metadata": {
            "tags": []
          },
          "execution_count": 269
        }
      ]
    },
    {
      "cell_type": "code",
      "metadata": {
        "id": "razPZhasgkEa",
        "colab_type": "code",
        "colab": {
          "base_uri": "https://localhost:8080/",
          "height": 34
        },
        "outputId": "b7331d1b-d1fe-4ca6-82dd-154e815dcf93"
      },
      "source": [
        "mapTf_idf"
      ],
      "execution_count": 270,
      "outputs": [
        {
          "output_type": "execute_result",
          "data": {
            "text/plain": [
              "0.12"
            ]
          },
          "metadata": {
            "tags": []
          },
          "execution_count": 270
        }
      ]
    },
    {
      "cell_type": "code",
      "metadata": {
        "id": "MEqpX03GgoHD",
        "colab_type": "code",
        "colab": {
          "base_uri": "https://localhost:8080/",
          "height": 34
        },
        "outputId": "ccaa2c2e-fa88-4126-a6ff-9d8d3c659dea"
      },
      "source": [
        "mapBM25"
      ],
      "execution_count": 271,
      "outputs": [
        {
          "output_type": "execute_result",
          "data": {
            "text/plain": [
              "0.14"
            ]
          },
          "metadata": {
            "tags": []
          },
          "execution_count": 271
        }
      ]
    },
    {
      "cell_type": "markdown",
      "metadata": {
        "id": "Rp2hkBSo-3q7",
        "colab_type": "text"
      },
      "source": [
        "# 3. Repita Q2 usando a avaliação multi-nível DCG. Utilize o campo \"level\" do gabarito para o cálculo do DCG e do idealDCG. Use uma janela de 5 documentos"
      ]
    },
    {
      "cell_type": "code",
      "metadata": {
        "id": "cXBkJLhb-_oR",
        "colab_type": "code",
        "colab": {}
      },
      "source": [
        "def dcg(model, docs):\n",
        "  dcg = 0\n",
        "  for i in range(1,len(model)+1):\n",
        "    doc = model[i-1]\n",
        "    lvl = docs[doc] if doc in docs else 0\n",
        "    dcg += (2^lvl) / np.log2(i + 1)\n",
        "    \n",
        "  return dcg\n",
        "\n",
        "def dcgModels(consulta):\n",
        "  docs = {}\n",
        "\n",
        "  for info in feedback[consulta]:\n",
        "    row = dataframe.loc[dataframe.url == info['URL']]\n",
        "    docs[row.index[0]] = info['level']\n",
        "    \n",
        "  binario, tf, tfidf, BM25 = create_models(consulta, 5)\n",
        "  binario = indexes(binario)\n",
        "  tf = indexes(tf)\n",
        "  tfidf = indexes(tfidf)\n",
        "  BM25 = indexes(BM25)\n",
        "  \n",
        "  binarioDCG = dcg(binario, docs)\n",
        "  tfDCG = dcg(tf, docs)\n",
        "  tf_idfDCG = dcg(tfidf, docs)\n",
        "  BM25DCG = dcg(BM25, docs)\n",
        "  \n",
        "  return binarioDCG, tfDCG, tf_idfDCG, BM25DCG"
      ],
      "execution_count": 0,
      "outputs": []
    },
    {
      "cell_type": "code",
      "metadata": {
        "id": "trZD04b2Ak7F",
        "colab_type": "code",
        "colab": {}
      },
      "source": [
        "binarioDCG, tfDCG, tf_idfDCG, BM25DCG = dcgModels('golpe militar')"
      ],
      "execution_count": 0,
      "outputs": []
    },
    {
      "cell_type": "code",
      "metadata": {
        "id": "kdPCcH-GBASB",
        "colab_type": "code",
        "colab": {
          "base_uri": "https://localhost:8080/",
          "height": 34
        },
        "outputId": "f372850e-2aaa-4964-a9a6-5720cc3d6b71"
      },
      "source": [
        "binarioDCG"
      ],
      "execution_count": 274,
      "outputs": [
        {
          "output_type": "execute_result",
          "data": {
            "text/plain": [
              "5.8969182377587845"
            ]
          },
          "metadata": {
            "tags": []
          },
          "execution_count": 274
        }
      ]
    },
    {
      "cell_type": "code",
      "metadata": {
        "id": "vs5aZAVBBAmy",
        "colab_type": "code",
        "colab": {
          "base_uri": "https://localhost:8080/",
          "height": 34
        },
        "outputId": "3a478bf2-75f6-445f-eed9-67e43225f950"
      },
      "source": [
        "tfDCG"
      ],
      "execution_count": 275,
      "outputs": [
        {
          "output_type": "execute_result",
          "data": {
            "text/plain": [
              "8.05030102812575"
            ]
          },
          "metadata": {
            "tags": []
          },
          "execution_count": 275
        }
      ]
    },
    {
      "cell_type": "code",
      "metadata": {
        "id": "ttEf259UBA2V",
        "colab_type": "code",
        "colab": {
          "base_uri": "https://localhost:8080/",
          "height": 34
        },
        "outputId": "2891097a-d252-415a-b0df-f14e0af370e0"
      },
      "source": [
        "tf_idfDCG"
      ],
      "execution_count": 276,
      "outputs": [
        {
          "output_type": "execute_result",
          "data": {
            "text/plain": [
              "8.396918237758785"
            ]
          },
          "metadata": {
            "tags": []
          },
          "execution_count": 276
        }
      ]
    },
    {
      "cell_type": "code",
      "metadata": {
        "id": "Un53sFZfBBLz",
        "colab_type": "code",
        "colab": {
          "base_uri": "https://localhost:8080/",
          "height": 34
        },
        "outputId": "d761c59b-96e3-4703-a231-e5001111d6b4"
      },
      "source": [
        "BM25DCG"
      ],
      "execution_count": 277,
      "outputs": [
        {
          "output_type": "execute_result",
          "data": {
            "text/plain": [
              "8.396918237758785"
            ]
          },
          "metadata": {
            "tags": []
          },
          "execution_count": 277
        }
      ]
    }
  ]
}